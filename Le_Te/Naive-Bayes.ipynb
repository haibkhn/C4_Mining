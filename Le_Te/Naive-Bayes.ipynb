{
 "cells": [
  {
   "cell_type": "code",
   "execution_count": 1,
   "id": "eda99502",
   "metadata": {},
   "outputs": [],
   "source": [
    "import pandas as pd\n",
    "import numpy as np"
   ]
  },
  {
   "cell_type": "code",
   "execution_count": 2,
   "id": "964625bc",
   "metadata": {},
   "outputs": [],
   "source": [
    "dataset = pd.read_csv(\"zoo.csv\")"
   ]
  },
  {
   "cell_type": "code",
   "execution_count": 3,
   "id": "09a7f2fa",
   "metadata": {},
   "outputs": [
    {
     "name": "stderr",
     "output_type": "stream",
     "text": [
      "<ipython-input-3-0e18c042d2ba>:4: SettingWithCopyWarning: \n",
      "A value is trying to be set on a copy of a slice from a DataFrame\n",
      "\n",
      "See the caveats in the documentation: https://pandas.pydata.org/pandas-docs/stable/user_guide/indexing.html#returning-a-view-versus-a-copy\n",
      "  dataset[\"animal_name\"][(dataset.venomous == 1) & (dataset.animal_name == \"frog\")] = \"venomous_frog\"\n"
     ]
    }
   ],
   "source": [
    "duplicates = dataset.duplicated(['animal_name']).sum()\n",
    "duplicates = dataset.animal_name.value_counts()\n",
    "frog = dataset.loc[dataset[\"animal_name\"]==\"frog\"]\n",
    "dataset[\"animal_name\"][(dataset.venomous == 1) & (dataset.animal_name == \"frog\")] = \"venomous_frog\""
   ]
  },
  {
   "cell_type": "code",
   "execution_count": 4,
   "id": "7750cb91",
   "metadata": {},
   "outputs": [],
   "source": [
    "feature = ['hair','feathers','eggs','milk','airborne','aquatic','predator','toothed',\n",
    "                 'backbone','breathes','venomous','fins','legs','tail','domestic']\n",
    "X = dataset[feature]\n",
    "y = dataset['class_type']\n",
    "\n",
    "from sklearn.model_selection import train_test_split\n",
    "X_train, X_test, y_train, y_test = train_test_split(X, y, test_size=0.5, random_state=1, stratify=y)"
   ]
  },
  {
   "cell_type": "code",
   "execution_count": 5,
   "id": "4e631db5",
   "metadata": {},
   "outputs": [
    {
     "name": "stdout",
     "output_type": "stream",
     "text": [
      "Test Accurary :  0.9803921568627451\n",
      "Train Accurary :  1.0\n"
     ]
    }
   ],
   "source": [
    "from sklearn.naive_bayes import GaussianNB\n",
    "nb = GaussianNB()\n",
    "nb.fit(X_train,y_train)\n",
    "y_pred_nb = nb.predict(X_test)\n",
    "print(\"Test Accurary : \",nb.score(X_test,y_test))\n",
    "print(\"Train Accurary : \",nb.score(X_train,y_train))"
   ]
  },
  {
   "cell_type": "code",
   "execution_count": 21,
   "id": "a10c7128",
   "metadata": {},
   "outputs": [
    {
     "name": "stdout",
     "output_type": "stream",
     "text": [
      "confusion matrix : \n",
      " [[21  0  0  0  0  0  0]\n",
      " [ 0 10  0  0  0  0  0]\n",
      " [ 0  0  1  1  0  0  0]\n",
      " [ 0  0  0  7  0  0  0]\n",
      " [ 0  0  0  0  2  0  0]\n",
      " [ 0  0  0  0  0  4  0]\n",
      " [ 0  0  0  0  0  0  5]]\n",
      "classification report : \n",
      "               precision    recall  f1-score   support\n",
      "\n",
      "           1       1.00      1.00      1.00        21\n",
      "           2       1.00      1.00      1.00        10\n",
      "           3       1.00      0.50      0.67         2\n",
      "           4       0.88      1.00      0.93         7\n",
      "           5       1.00      1.00      1.00         2\n",
      "           6       1.00      1.00      1.00         4\n",
      "           7       1.00      1.00      1.00         5\n",
      "\n",
      "    accuracy                           0.98        51\n",
      "   macro avg       0.98      0.93      0.94        51\n",
      "weighted avg       0.98      0.98      0.98        51\n",
      "\n"
     ]
    }
   ],
   "source": [
    "from sklearn.metrics import confusion_matrix, classification_report\n",
    "cm_nb = confusion_matrix(y_test,y_pred_nb)\n",
    "cr_nb = classification_report(y_test,y_pred_nb)\n",
    "print(\"confusion matrix : \\n\",cm_nb)\n",
    "print(\"classification report : \\n\",cr_nb)"
   ]
  },
  {
   "cell_type": "code",
   "execution_count": 20,
   "id": "e95a0904",
   "metadata": {},
   "outputs": [
    {
     "data": {
      "image/png": "[encoded data removed]",
      "text/plain": [
       "<Figure size 720x576 with 2 Axes>"
      ]
     },
     "metadata": {
      "needs_background": "light"
     },
     "output_type": "display_data"
    }
   ],
   "source": [
    "%matplotlib inline\n",
    "import matplotlib.pyplot as plt\n",
    "import seaborn as sn\n",
    "plt.figure(figsize = (10,8))\n",
    "sn.heatmap(cm_nb,annot = True,xticklabels = np.arange(1,8),yticklabels = np.arange(1,8))\n",
    "plt.xlabel('Predicted')\n",
    "plt.ylabel('Truth')\n",
    "plt.show()"
   ]
  },
  {
   "cell_type": "code",
   "execution_count": null,
   "id": "7cccdbb8",
   "metadata": {},
   "outputs": [],
   "source": []
  }
 ],
 "metadata": {
  "kernelspec": {
   "display_name": "Python 3",
   "language": "python",
   "name": "python3"
  },
  "language_info": {
   "codemirror_mode": {
    "name": "ipython",
    "version": 3
   },
   "file_extension": ".py",
   "mimetype": "text/x-python",
   "name": "python",
   "nbconvert_exporter": "python",
   "pygments_lexer": "ipython3",
   "version": "3.9.2"
  }
 },
 "nbformat": 4,
 "nbformat_minor": 5
}
